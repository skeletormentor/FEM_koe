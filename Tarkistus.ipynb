{
 "cells": [
  {
   "cell_type": "markdown",
   "metadata": {},
   "source": [
    "# FEM-koe\n",
    "## Tehtävä 1\n",
    "Teräsputki, jonka ulkohalkaisija on $20\\,\\mathrm{mm}$ ja\n",
    "sisähalkaisija $15\\,\\mathrm{mm}$, on päistään kiinnitetty.\n",
    "Laske elementtimenetelmällä pisteen $B$ siirtymä ja\n",
    "tukireaktiot putken päissä. $E = 210\\,\\mathrm{GPa}$."
   ]
  },
  {
   "cell_type": "code",
   "execution_count": 1,
   "metadata": {},
   "outputs": [],
   "source": [
    "using DataFrames\n",
    "using Unitful\n",
    "using SymPy\n",
    "\n",
    "D = 20e-3\n",
    "d = 15e-3\n",
    "\n",
    "A = pi/4 * (D^2 - d^2)\n",
    "E = 210e9\n",
    "L = [0.3, 0.7]\n",
    "P = 16e3\n",
    "\n",
    "bar(L) = A*E/L * [1 -1; -1 1]\n",
    "\n",
    "elements = [bar(L[1]), bar(L[2])]\n",
    "\n",
    "K = zeros(3, 3)\n",
    "F = zeros(3)\n",
    "u = zeros(3)\n",
    "\n",
    "F[2] = -P\n",
    "\n",
    "K[1:2, 1:2] += elements[1]\n",
    "K[2:3, 2:3] += elements[2]\n",
    "\n",
    "u[2] = F[2] / K[2, 2];\n",
    "F = K*u;"
   ]
  },
  {
   "cell_type": "code",
   "execution_count": 2,
   "metadata": {},
   "outputs": [
    {
     "data": {
      "text/html": [
       "<table class=\"data-frame\"><thead><tr><th></th><th>u</th><th>F</th></tr><tr><th></th><th>Quantit…</th><th>Quantit…</th></tr></thead><tbody><p>3 rows × 2 columns</p><tr><th>1</th><td>0.0 mm</td><td>11.2 kN</td></tr><tr><th>2</th><td>-0.11641 mm</td><td>-16.0 kN</td></tr><tr><th>3</th><td>0.0 mm</td><td>4.8 kN</td></tr></tbody></table>"
      ],
      "text/latex": [
       "\\begin{tabular}{r|cc}\n",
       "\t& u & F\\\\\n",
       "\t\\hline\n",
       "\t& Quantit… & Quantit…\\\\\n",
       "\t\\hline\n",
       "\t1 & 0.0 mm & 11.2 kN \\\\\n",
       "\t2 & -0.11641 mm & -16.0 kN \\\\\n",
       "\t3 & 0.0 mm & 4.8 kN \\\\\n",
       "\\end{tabular}\n"
      ],
      "text/plain": [
       "3×2 DataFrame\n",
       "│ Row │ u           │ F        │\n",
       "│     │ \u001b[90mQuantity…\u001b[39m   │ \u001b[90mQuantit…\u001b[39m │\n",
       "├─────┼─────────────┼──────────┤\n",
       "│ 1   │ 0.0 mm      │ 11.2 kN  │\n",
       "│ 2   │ -0.11641 mm │ -16.0 kN │\n",
       "│ 3   │ 0.0 mm      │ 4.8 kN   │"
      ]
     },
     "execution_count": 2,
     "metadata": {},
     "output_type": "execute_result"
    }
   ],
   "source": [
    "DataFrame(u=u*u\"m\" .|> u\"mm\", \n",
    "          F=F*u\"N\" .|> u\"kN\")"
   ]
  },
  {
   "cell_type": "markdown",
   "metadata": {},
   "source": [
    "## Tehtävä 2\n",
    "Kannatin on mallinnettu yhdellä sauvaelementillä\n",
    "(1) ja yhdellä palkkielementillä (2). Olet laskenut rakenteen tuntemattomat solmusiirtymät (SI-yksiköinä):\n",
    "$$\n",
    "\\left\\{\n",
    "    \\begin{array}{lll}\n",
    "        u_2 \\\\\n",
    "        v_2 \\\\\n",
    "        \\theta_2\n",
    "    \\end{array}\n",
    "\\right\\} = \\left\\{\n",
    "    \\begin{array}{ccc}\n",
    "        -0.00634 \\\\\n",
    "        -0.048 \\\\\n",
    "        -0.024\n",
    "    \\end{array}\n",
    "\\right\\}\n",
    "$$\n",
    "Määritä sauvan (elementin 1) normaalivoima matriiseja käyttäen. Sauva on terästä $E = 210\\,\\mathrm{GPa}$, $A = 1.0 \\cdot 10^{-3}\\,\\mathrm{m}^2$."
   ]
  },
  {
   "cell_type": "code",
   "execution_count": 3,
   "metadata": {},
   "outputs": [
    {
     "data": {
      "text/plain": [
       "2-element Array{Quantity{Float64,𝐋 𝐌 𝐓^-2,Unitful.FreeUnits{(kN,),𝐋 𝐌 𝐓^-2,nothing}},1}:\n",
       " -988.96 kN\n",
       "  988.96 kN"
      ]
     },
     "execution_count": 3,
     "metadata": {},
     "output_type": "execute_result"
    }
   ],
   "source": [
    "θ = -atan(1.5/3)\n",
    "A = 1e-3\n",
    "L = sqrt(3^2 + 1.5^2)\n",
    "u = [0, 0, -0.00634, -0.048]\n",
    "\n",
    "C, S = cos(θ), sin(θ)\n",
    "\n",
    "u_ = [C S 0 0; 0 0 C S] * u\n",
    "\n",
    "k = A*E / L * [1 -1; -1 1]\n",
    "F_ = k * u_\n",
    "F_*u\"N\" .|> u\"kN\""
   ]
  },
  {
   "cell_type": "markdown",
   "metadata": {},
   "source": [
    "## Tehtävä 3\n",
    "Sauva (pituus $L$, taivutusjäykkyys $EI$) on\n",
    "nivelellisesti tuettu kummastakin päästä. Laske\n",
    "nurjahdusvoima elementtimenetelmällä käyttäen\n",
    "yhtä palkkielementtiä."
   ]
  },
  {
   "cell_type": "code",
   "execution_count": 12,
   "metadata": {},
   "outputs": [
    {
     "data": {
      "text/latex": [
       "\\[\\left[ \\begin{array}{rr}\\frac{4 E I}{L} - \\frac{2 L P λ}{15}&\\frac{2 E I}{L} + \\frac{L P λ}{30}\\\\\\frac{2 E I}{L} + \\frac{L P λ}{30}&\\frac{4 E I}{L} - \\frac{2 L P λ}{15}\\end{array}\\right]\\]"
      ],
      "text/plain": [
       "2×2 Array{Sym,2}:\n",
       " 4*E*I/L - 2*L*P*λ/15    2*E*I/L + L*P*λ/30\n",
       "   2*E*I/L + L*P*λ/30  4*E*I/L - 2*L*P*λ/15"
      ]
     },
     "execution_count": 12,
     "metadata": {},
     "output_type": "execute_result"
    }
   ],
   "source": [
    "@vars E I L P λ\n",
    "\n",
    "K_t = E*I/L^3*[ 12   6L -12   6L;\n",
    "                6L 4L^2 -6L 2L^2;\n",
    "               -12  -6L  12  -6L;\n",
    "                6L 2L^2 -6L 4L^2]\n",
    "\n",
    "K_g = P / 30L * [36   3L -36   3L;\n",
    "                 3L 4L^2 -3L -L^2;\n",
    "                -36  -3L  36  -3L;\n",
    "                 3L -L^2 -3L 4L^2]\n",
    "\n",
    "A = (K_t - λ*K_g)[[2, 4], [2, 4]]"
   ]
  },
  {
   "cell_type": "code",
   "execution_count": 13,
   "metadata": {},
   "outputs": [
    {
     "data": {
      "text/latex": [
       "\\begin{equation*}\\frac{12 E I}{L^{2}}\\end{equation*}"
      ],
      "text/plain": [
       "12*E*I\n",
       "------\n",
       "   2  \n",
       "  L   "
      ]
     },
     "execution_count": 13,
     "metadata": {},
     "output_type": "execute_result"
    }
   ],
   "source": [
    "using LinearAlgebra: det\n",
    "solve(det(A), λ*P)[1]"
   ]
  },
  {
   "cell_type": "markdown",
   "metadata": {},
   "source": [
    "## Tehtävä 4\n",
    "Laske elementtimenetelmällä oheisen palkin\n",
    "taipumat ja kiertymät solmupisteissä. Ratkaise\n",
    "siirtymät Gaussin eliminaatiomenetelmällä, jonka\n",
    "välivaiheet on esitettävä.  \n",
    "$P = 12\\,\\mathrm{kN}$, $L = 2\\,\\mathrm{m}$, $E = 210\\,\\mathrm{GPa}$, $I = 2\\cdot10^{-5}\\,\\mathrm{m}^4$."
   ]
  },
  {
   "cell_type": "code",
   "execution_count": 37,
   "metadata": {},
   "outputs": [
    {
     "data": {
      "text/plain": [
       "3×4 Array{Rational{Int64},2}:\n",
       "  8//1  -3//1   2//1   0//1\n",
       " -3//1   3//1  -3//1  -1//175\n",
       "  2//1  -3//1   4//1   0//1"
      ]
     },
     "execution_count": 37,
     "metadata": {},
     "output_type": "execute_result"
    }
   ],
   "source": [
    "P = 12e3\n",
    "L = 2\n",
    "I = 2e-5\n",
    "E = 210e9\n",
    "\n",
    "beam = E*I/L^3*[ 12   6L -12   6L;\n",
    "                 6L 4L^2 -6L 2L^2; \n",
    "                -12  -6L  12  -6L;\n",
    "                 6L 2L^2 -6L 4L^2]\n",
    "K = zeros(6, 6)\n",
    "F = [0, 0, 0, 0, -P, 0]\n",
    "\n",
    "K[1:4, 1:4] += beam\n",
    "K[3:6, 3:6] += beam\n",
    "A = K[4:6, 4:6]\n",
    "b = F[4:6]\n",
    "rationalize.([A b] / 2100000)"
   ]
  },
  {
   "cell_type": "code",
   "execution_count": 17,
   "metadata": {},
   "outputs": [
    {
     "data": {
      "text/plain": [
       "3-element Array{Rational{Int64},1}:\n",
       " -1//350\n",
       " -1//75\n",
       " -3//350"
      ]
     },
     "execution_count": 17,
     "metadata": {},
     "output_type": "execute_result"
    }
   ],
   "source": [
    "rationalize.(A \\ b)"
   ]
  },
  {
   "cell_type": "code",
   "execution_count": 38,
   "metadata": {},
   "outputs": [
    {
     "data": {
      "text/plain": [
       "3-element Array{Float64,1}:\n",
       " -0.002857142857142857\n",
       " -0.013333333333333334\n",
       " -0.008571428571428572"
      ]
     },
     "execution_count": 38,
     "metadata": {},
     "output_type": "execute_result"
    }
   ],
   "source": [
    "A \\ b"
   ]
  }
 ],
 "metadata": {
  "kernelspec": {
   "display_name": "Julia 1.5.2",
   "language": "julia",
   "name": "julia-1.5"
  },
  "language_info": {
   "file_extension": ".jl",
   "mimetype": "application/julia",
   "name": "julia",
   "version": "1.5.2"
  }
 },
 "nbformat": 4,
 "nbformat_minor": 4
}
